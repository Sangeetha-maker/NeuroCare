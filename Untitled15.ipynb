{
  "nbformat": 4,
  "nbformat_minor": 0,
  "metadata": {
    "colab": {
      "provenance": [],
      "authorship_tag": "ABX9TyPM+4qvk1KhWsHmBZ6zO73s",
      "include_colab_link": true
    },
    "kernelspec": {
      "name": "python3",
      "display_name": "Python 3"
    },
    "language_info": {
      "name": "python"
    }
  },
  "cells": [
    {
      "cell_type": "markdown",
      "metadata": {
        "id": "view-in-github",
        "colab_type": "text"
      },
      "source": [
        "<a href=\"https://colab.research.google.com/github/Sangeetha-maker/NeuroCare/blob/main/Untitled15.ipynb\" target=\"_parent\"><img src=\"https://colab.research.google.com/assets/colab-badge.svg\" alt=\"Open In Colab\"/></a>"
      ]
    },
    {
      "cell_type": "code",
      "execution_count": 2,
      "metadata": {
        "id": "JpljB3KU4bRf"
      },
      "outputs": [],
      "source": [
        "from google.colab import files\n",
        "import os\n",
        "import cv2\n",
        "import numpy as np\n",
        "from sklearn.model_selection import train_test_split\n",
        "import tensorflow as tf\n",
        "from tensorflow import keras\n",
        "from tensorflow.keras import layers\n"
      ]
    },
    {
      "cell_type": "code",
      "source": [
        "uploaded_files = files.upload()\n"
      ],
      "metadata": {
        "colab": {
          "base_uri": "https://localhost:8080/",
          "height": 1000
        },
        "id": "BLeahR_M4pNW",
        "outputId": "613db808-2f19-4b9c-9084-5a1ce4448b8e"
      },
      "execution_count": 3,
      "outputs": [
        {
          "output_type": "display_data",
          "data": {
            "text/plain": [
              "<IPython.core.display.HTML object>"
            ],
            "text/html": [
              "\n",
              "     <input type=\"file\" id=\"files-95f12ea7-1b9e-4c0d-bb7f-9241cd2555b6\" name=\"files[]\" multiple disabled\n",
              "        style=\"border:none\" />\n",
              "     <output id=\"result-95f12ea7-1b9e-4c0d-bb7f-9241cd2555b6\">\n",
              "      Upload widget is only available when the cell has been executed in the\n",
              "      current browser session. Please rerun this cell to enable.\n",
              "      </output>\n",
              "      <script>// Copyright 2017 Google LLC\n",
              "//\n",
              "// Licensed under the Apache License, Version 2.0 (the \"License\");\n",
              "// you may not use this file except in compliance with the License.\n",
              "// You may obtain a copy of the License at\n",
              "//\n",
              "//      http://www.apache.org/licenses/LICENSE-2.0\n",
              "//\n",
              "// Unless required by applicable law or agreed to in writing, software\n",
              "// distributed under the License is distributed on an \"AS IS\" BASIS,\n",
              "// WITHOUT WARRANTIES OR CONDITIONS OF ANY KIND, either express or implied.\n",
              "// See the License for the specific language governing permissions and\n",
              "// limitations under the License.\n",
              "\n",
              "/**\n",
              " * @fileoverview Helpers for google.colab Python module.\n",
              " */\n",
              "(function(scope) {\n",
              "function span(text, styleAttributes = {}) {\n",
              "  const element = document.createElement('span');\n",
              "  element.textContent = text;\n",
              "  for (const key of Object.keys(styleAttributes)) {\n",
              "    element.style[key] = styleAttributes[key];\n",
              "  }\n",
              "  return element;\n",
              "}\n",
              "\n",
              "// Max number of bytes which will be uploaded at a time.\n",
              "const MAX_PAYLOAD_SIZE = 100 * 1024;\n",
              "\n",
              "function _uploadFiles(inputId, outputId) {\n",
              "  const steps = uploadFilesStep(inputId, outputId);\n",
              "  const outputElement = document.getElementById(outputId);\n",
              "  // Cache steps on the outputElement to make it available for the next call\n",
              "  // to uploadFilesContinue from Python.\n",
              "  outputElement.steps = steps;\n",
              "\n",
              "  return _uploadFilesContinue(outputId);\n",
              "}\n",
              "\n",
              "// This is roughly an async generator (not supported in the browser yet),\n",
              "// where there are multiple asynchronous steps and the Python side is going\n",
              "// to poll for completion of each step.\n",
              "// This uses a Promise to block the python side on completion of each step,\n",
              "// then passes the result of the previous step as the input to the next step.\n",
              "function _uploadFilesContinue(outputId) {\n",
              "  const outputElement = document.getElementById(outputId);\n",
              "  const steps = outputElement.steps;\n",
              "\n",
              "  const next = steps.next(outputElement.lastPromiseValue);\n",
              "  return Promise.resolve(next.value.promise).then((value) => {\n",
              "    // Cache the last promise value to make it available to the next\n",
              "    // step of the generator.\n",
              "    outputElement.lastPromiseValue = value;\n",
              "    return next.value.response;\n",
              "  });\n",
              "}\n",
              "\n",
              "/**\n",
              " * Generator function which is called between each async step of the upload\n",
              " * process.\n",
              " * @param {string} inputId Element ID of the input file picker element.\n",
              " * @param {string} outputId Element ID of the output display.\n",
              " * @return {!Iterable<!Object>} Iterable of next steps.\n",
              " */\n",
              "function* uploadFilesStep(inputId, outputId) {\n",
              "  const inputElement = document.getElementById(inputId);\n",
              "  inputElement.disabled = false;\n",
              "\n",
              "  const outputElement = document.getElementById(outputId);\n",
              "  outputElement.innerHTML = '';\n",
              "\n",
              "  const pickedPromise = new Promise((resolve) => {\n",
              "    inputElement.addEventListener('change', (e) => {\n",
              "      resolve(e.target.files);\n",
              "    });\n",
              "  });\n",
              "\n",
              "  const cancel = document.createElement('button');\n",
              "  inputElement.parentElement.appendChild(cancel);\n",
              "  cancel.textContent = 'Cancel upload';\n",
              "  const cancelPromise = new Promise((resolve) => {\n",
              "    cancel.onclick = () => {\n",
              "      resolve(null);\n",
              "    };\n",
              "  });\n",
              "\n",
              "  // Wait for the user to pick the files.\n",
              "  const files = yield {\n",
              "    promise: Promise.race([pickedPromise, cancelPromise]),\n",
              "    response: {\n",
              "      action: 'starting',\n",
              "    }\n",
              "  };\n",
              "\n",
              "  cancel.remove();\n",
              "\n",
              "  // Disable the input element since further picks are not allowed.\n",
              "  inputElement.disabled = true;\n",
              "\n",
              "  if (!files) {\n",
              "    return {\n",
              "      response: {\n",
              "        action: 'complete',\n",
              "      }\n",
              "    };\n",
              "  }\n",
              "\n",
              "  for (const file of files) {\n",
              "    const li = document.createElement('li');\n",
              "    li.append(span(file.name, {fontWeight: 'bold'}));\n",
              "    li.append(span(\n",
              "        `(${file.type || 'n/a'}) - ${file.size} bytes, ` +\n",
              "        `last modified: ${\n",
              "            file.lastModifiedDate ? file.lastModifiedDate.toLocaleDateString() :\n",
              "                                    'n/a'} - `));\n",
              "    const percent = span('0% done');\n",
              "    li.appendChild(percent);\n",
              "\n",
              "    outputElement.appendChild(li);\n",
              "\n",
              "    const fileDataPromise = new Promise((resolve) => {\n",
              "      const reader = new FileReader();\n",
              "      reader.onload = (e) => {\n",
              "        resolve(e.target.result);\n",
              "      };\n",
              "      reader.readAsArrayBuffer(file);\n",
              "    });\n",
              "    // Wait for the data to be ready.\n",
              "    let fileData = yield {\n",
              "      promise: fileDataPromise,\n",
              "      response: {\n",
              "        action: 'continue',\n",
              "      }\n",
              "    };\n",
              "\n",
              "    // Use a chunked sending to avoid message size limits. See b/62115660.\n",
              "    let position = 0;\n",
              "    do {\n",
              "      const length = Math.min(fileData.byteLength - position, MAX_PAYLOAD_SIZE);\n",
              "      const chunk = new Uint8Array(fileData, position, length);\n",
              "      position += length;\n",
              "\n",
              "      const base64 = btoa(String.fromCharCode.apply(null, chunk));\n",
              "      yield {\n",
              "        response: {\n",
              "          action: 'append',\n",
              "          file: file.name,\n",
              "          data: base64,\n",
              "        },\n",
              "      };\n",
              "\n",
              "      let percentDone = fileData.byteLength === 0 ?\n",
              "          100 :\n",
              "          Math.round((position / fileData.byteLength) * 100);\n",
              "      percent.textContent = `${percentDone}% done`;\n",
              "\n",
              "    } while (position < fileData.byteLength);\n",
              "  }\n",
              "\n",
              "  // All done.\n",
              "  yield {\n",
              "    response: {\n",
              "      action: 'complete',\n",
              "    }\n",
              "  };\n",
              "}\n",
              "\n",
              "scope.google = scope.google || {};\n",
              "scope.google.colab = scope.google.colab || {};\n",
              "scope.google.colab._files = {\n",
              "  _uploadFiles,\n",
              "  _uploadFilesContinue,\n",
              "};\n",
              "})(self);\n",
              "</script> "
            ]
          },
          "metadata": {}
        },
        {
          "output_type": "stream",
          "name": "stdout",
          "text": [
            "Saving 00a9c4ad-c06d-431d-a5c9-1dc324db0632.jpg to 00a9c4ad-c06d-431d-a5c9-1dc324db0632.jpg\n",
            "Saving 00a98422-8b63-47e6-8b8f-9119984d87ee.jpg to 00a98422-8b63-47e6-8b8f-9119984d87ee.jpg\n",
            "Saving 00aca345-1ef7-4fa9-9b3a-0c4c58f71fd1.jpg to 00aca345-1ef7-4fa9-9b3a-0c4c58f71fd1.jpg\n",
            "Saving 00b6998c-266a-4880-b6af-30ca013bdd8c.jpg to 00b6998c-266a-4880-b6af-30ca013bdd8c.jpg\n",
            "Saving 00b8529f-23c6-415c-96cc-a4e6ca6ed6ac.jpg to 00b8529f-23c6-415c-96cc-a4e6ca6ed6ac.jpg\n",
            "Saving 00bf1de7-3fa1-4027-8d9c-b44224391c7d.jpg to 00bf1de7-3fa1-4027-8d9c-b44224391c7d.jpg\n",
            "Saving 00c69c46-4fce-42e2-94d6-f5f39c802c5a.jpg to 00c69c46-4fce-42e2-94d6-f5f39c802c5a.jpg\n",
            "Saving 00d1d847-c16b-4d89-a6da-a7d4e2764ef4.jpg to 00d1d847-c16b-4d89-a6da-a7d4e2764ef4.jpg\n",
            "Saving 00d2a7e6-2093-40ea-afd9-3c839dabb778.jpg to 00d2a7e6-2093-40ea-afd9-3c839dabb778.jpg\n",
            "Saving 00d286e4-7081-4900-a114-c4592d141bf7.jpg to 00d286e4-7081-4900-a114-c4592d141bf7.jpg\n",
            "Saving 00f633cd-fd80-4ce6-ac93-e3146de41762.jpg to 00f633cd-fd80-4ce6-ac93-e3146de41762.jpg\n",
            "Saving 00fa8529-6dbb-4dc7-838b-ba6bb2ce780e.jpg to 00fa8529-6dbb-4dc7-838b-ba6bb2ce780e.jpg\n",
            "Saving 0a0dcc80-c8eb-4582-ac67-e8f418e7fc09.jpg to 0a0dcc80-c8eb-4582-ac67-e8f418e7fc09.jpg\n",
            "Saving 0a0de123-f142-406f-b47e-d649acb72e16.jpg to 0a0de123-f142-406f-b47e-d649acb72e16.jpg\n",
            "Saving 0a0f48ed-c53d-4d3a-a65d-65c5747f43f3.jpg to 0a0f48ed-c53d-4d3a-a65d-65c5747f43f3.jpg\n",
            "Saving 0a67e5f6-fb05-45d4-bbd1-d2bf8f6d604e.jpg to 0a67e5f6-fb05-45d4-bbd1-d2bf8f6d604e.jpg\n",
            "Saving 0a73cad0-2dd2-42c9-8e51-ac6fbcc84bd4.jpg to 0a73cad0-2dd2-42c9-8e51-ac6fbcc84bd4.jpg\n",
            "Saving 0a81b643-04ba-46fc-a6b5-9315d2b03432.jpg to 0a81b643-04ba-46fc-a6b5-9315d2b03432.jpg\n",
            "Saving 0a778f12-7afc-4d8d-9dc8-78990fc080be.jpg to 0a778f12-7afc-4d8d-9dc8-78990fc080be.jpg\n",
            "Saving 0a5063e8-da6a-4037-b41a-25a50d734557.jpg to 0a5063e8-da6a-4037-b41a-25a50d734557.jpg\n",
            "Saving 0abf8a11-4bcd-49db-93ad-4c9d83148aa3.jpg to 0abf8a11-4bcd-49db-93ad-4c9d83148aa3.jpg\n",
            "Saving 0ad394c1-32fe-4e0e-86d9-abe4d671ff0a.jpg to 0ad394c1-32fe-4e0e-86d9-abe4d671ff0a.jpg\n",
            "Saving 0ae0c20b-7186-4b08-9afa-a6e976060bbc.jpg to 0ae0c20b-7186-4b08-9afa-a6e976060bbc.jpg\n",
            "Saving 0af6a623-c45e-42f5-ad94-89f194d5011e.jpg to 0af6a623-c45e-42f5-ad94-89f194d5011e.jpg\n",
            "Saving 0af9e39c-9c2d-4efa-adf7-1e9a8a9e50cf.jpg to 0af9e39c-9c2d-4efa-adf7-1e9a8a9e50cf.jpg\n",
            "Saving 0b0f4e11-599c-4b82-8213-2618efd4c1e6.jpg to 0b0f4e11-599c-4b82-8213-2618efd4c1e6.jpg\n",
            "Saving 0b1c0d1a-f369-4eb4-916d-e38b12cac2aa.jpg to 0b1c0d1a-f369-4eb4-916d-e38b12cac2aa.jpg\n",
            "Saving 0b02c1e3-4ac0-48d8-a28c-504618f3a7f6.jpg to 0b02c1e3-4ac0-48d8-a28c-504618f3a7f6.jpg\n",
            "Saving 0b2dc55b-802b-4d01-afcb-6c3565a82e86.jpg to 0b2dc55b-802b-4d01-afcb-6c3565a82e86.jpg\n",
            "Saving 0b2e7e0f-b2c9-4967-9dc6-3cbf98e58ca9.jpg to 0b2e7e0f-b2c9-4967-9dc6-3cbf98e58ca9.jpg\n",
            "Saving 0b9504f9-1bac-47b9-a6c1-e54887aa2980.jpg to 0b9504f9-1bac-47b9-a6c1-e54887aa2980.jpg\n",
            "Saving 0b083471-c580-4dc2-9c97-2305ddd9f0e8.jpg to 0b083471-c580-4dc2-9c97-2305ddd9f0e8.jpg\n",
            "Saving 0b84884f-1949-4336-afa8-6f143c0f03a6.jpg to 0b84884f-1949-4336-afa8-6f143c0f03a6.jpg\n",
            "Saving 0b406727-e500-47ca-87cc-12a11ba29338.jpg to 0b406727-e500-47ca-87cc-12a11ba29338.jpg\n",
            "Saving 0b851817-4b5c-4db6-9b3d-d1a59f9b8259.jpg to 0b851817-4b5c-4db6-9b3d-d1a59f9b8259.jpg\n",
            "Saving 0c5a6a67-a8e9-42ac-bf58-d2fa4e23b56f.jpg to 0c5a6a67-a8e9-42ac-bf58-d2fa4e23b56f.jpg\n",
            "Saving 0c5f5cf4-c4df-4dce-a5af-734babaf79d5.jpg to 0c5f5cf4-c4df-4dce-a5af-734babaf79d5.jpg\n",
            "Saving 0c5f18e3-55ef-4735-9b9d-9681a7a49dbf.jpg to 0c5f18e3-55ef-4735-9b9d-9681a7a49dbf.jpg\n",
            "Saving 0c6e112b-2ab9-4d4b-9821-cce4a03081fe.jpg to 0c6e112b-2ab9-4d4b-9821-cce4a03081fe.jpg\n",
            "Saving 0c7c6b2d-fb79-45c5-8c79-e28f0cfee857.jpg to 0c7c6b2d-fb79-45c5-8c79-e28f0cfee857.jpg\n",
            "Saving 0c926cf1-2d75-488c-b581-0c121dfc2250.jpg to 0c926cf1-2d75-488c-b581-0c121dfc2250.jpg\n",
            "Saving 0c980d64-8fb1-4cfa-8fe7-6206d2fb0648.jpg to 0c980d64-8fb1-4cfa-8fe7-6206d2fb0648.jpg\n",
            "Saving 0c4400a2-eb70-4bcd-8693-a4dc423469f2.jpg to 0c4400a2-eb70-4bcd-8693-a4dc423469f2.jpg\n",
            "Saving 0c05056b-ab57-4756-a618-7c179dca0e37.jpg to 0c05056b-ab57-4756-a618-7c179dca0e37.jpg\n",
            "Saving 0c8033f0-3979-43a1-94ed-9b920ddc45e6.jpg to 0c8033f0-3979-43a1-94ed-9b920ddc45e6.jpg\n",
            "Saving 0cc7daa6-4471-43ee-8eb1-5ddf3e5a324e.jpg to 0cc7daa6-4471-43ee-8eb1-5ddf3e5a324e.jpg\n",
            "Saving 0cd2e0e0-9eea-4a23-b563-2aea6d6ee16a.jpg to 0cd2e0e0-9eea-4a23-b563-2aea6d6ee16a.jpg\n",
            "Saving 0cd27593-0907-4a79-ae35-fae73c670c0a.jpg to 0cd27593-0907-4a79-ae35-fae73c670c0a.jpg\n",
            "Saving 0cda080e-9650-4541-ac1f-d919a33793a6.jpg to 0cda080e-9650-4541-ac1f-d919a33793a6.jpg\n",
            "Saving 0ce5f0ab-61de-4e09-80a6-e830640eadf0.jpg to 0ce5f0ab-61de-4e09-80a6-e830640eadf0.jpg\n",
            "Saving 0cf12361-40a4-4bab-bc0d-6db17422eebb.jpg to 0cf12361-40a4-4bab-bc0d-6db17422eebb.jpg\n",
            "Saving 0d0c51df-3a44-4e66-80c6-6f200d483302.jpg to 0d0c51df-3a44-4e66-80c6-6f200d483302.jpg\n",
            "Saving 0d0e8c0b-fe7e-494d-ab48-cc47a822ff86.jpg to 0d0e8c0b-fe7e-494d-ab48-cc47a822ff86.jpg\n",
            "Saving 0d2b5d60-6b6d-4ad0-876e-e86dd24fd6a4.jpg to 0d2b5d60-6b6d-4ad0-876e-e86dd24fd6a4.jpg\n",
            "Saving 0d3ad5c2-433f-4161-a426-b831d5304e2d.jpg to 0d3ad5c2-433f-4161-a426-b831d5304e2d.jpg\n",
            "Saving 0d44ef70-980f-446c-8093-c5b6e7be7393.jpg to 0d44ef70-980f-446c-8093-c5b6e7be7393.jpg\n",
            "Saving 0d47b258-aa11-428b-9ea3-e459fc95007e.jpg to 0d47b258-aa11-428b-9ea3-e459fc95007e.jpg\n",
            "Saving 0d59c9c3-b1b3-41bc-9c58-9a9e9ae482de.jpg to 0d59c9c3-b1b3-41bc-9c58-9a9e9ae482de.jpg\n",
            "Saving 0d62e060-17cd-4e5a-b7be-b33a1d96d8ef.jpg to 0d62e060-17cd-4e5a-b7be-b33a1d96d8ef.jpg\n",
            "Saving 0d084eef-b7cd-4832-944a-a29fa6eb0117.jpg to 0d084eef-b7cd-4832-944a-a29fa6eb0117.jpg\n",
            "Saving 0d839890-e5de-40de-a253-969ceabee18b.jpg to 0d839890-e5de-40de-a253-969ceabee18b.jpg\n",
            "Saving 0dacd2e6-e3e1-4368-b0d5-e21e659e9634.jpg to 0dacd2e6-e3e1-4368-b0d5-e21e659e9634.jpg\n",
            "Saving 0db02ad4-865d-4667-810a-dc447e68795d.jpg to 0db02ad4-865d-4667-810a-dc447e68795d.jpg\n",
            "Saving 0db4460a-3c0c-4989-be86-139f8772bdb1.jpg to 0db4460a-3c0c-4989-be86-139f8772bdb1.jpg\n",
            "Saving 0dbe70cc-66b2-4a96-971a-4cf3736fd694.jpg to 0dbe70cc-66b2-4a96-971a-4cf3736fd694.jpg\n",
            "Saving 0de5594a-9876-40d2-bda8-9dabf3bc046b.jpg to 0de5594a-9876-40d2-bda8-9dabf3bc046b.jpg\n",
            "Saving 0de12077-2e93-4823-b9b4-0e1132e0b3fc.jpg to 0de12077-2e93-4823-b9b4-0e1132e0b3fc.jpg\n",
            "Saving 0e0ce6e2-9549-4850-b066-b1f042275e47.jpg to 0e0ce6e2-9549-4850-b066-b1f042275e47.jpg\n",
            "Saving 0e0e5dad-5664-4b93-b7a3-62c80cf1bc7a.jpg to 0e0e5dad-5664-4b93-b7a3-62c80cf1bc7a.jpg\n",
            "Saving 0e3b4726-2f0c-457b-99c3-e549636ef344.jpg to 0e3b4726-2f0c-457b-99c3-e549636ef344.jpg\n",
            "Saving 0e9b24dd-645b-47b9-ac11-bc419eeb5e20.jpg to 0e9b24dd-645b-47b9-ac11-bc419eeb5e20.jpg\n",
            "Saving 0e10bf92-d1ba-44b1-8b4c-fc76e1563cee.jpg to 0e10bf92-d1ba-44b1-8b4c-fc76e1563cee.jpg\n",
            "Saving 0e21ad82-7d2e-4582-a76d-63a9d0610df5.jpg to 0e21ad82-7d2e-4582-a76d-63a9d0610df5.jpg\n",
            "Saving 0e23e546-0272-4514-b610-b5e9e0468bc6.jpg to 0e23e546-0272-4514-b610-b5e9e0468bc6.jpg\n",
            "Saving 0e28e227-e64f-4b15-915e-0648ecf465ea.jpg to 0e28e227-e64f-4b15-915e-0648ecf465ea.jpg\n",
            "Saving 0e9332c6-4ba1-47be-8fd9-783f3548f70c.jpg to 0e9332c6-4ba1-47be-8fd9-783f3548f70c.jpg\n",
            "Saving 0e83799a-a160-4f44-b4b0-355872f47f78.jpg to 0e83799a-a160-4f44-b4b0-355872f47f78.jpg\n",
            "Saving 0e156295-aa5b-4d7e-b5ca-ce0130ba2bc8.jpg to 0e156295-aa5b-4d7e-b5ca-ce0130ba2bc8.jpg\n",
            "Saving 0e558286-3e27-407f-8a80-bea69cf9e7f9.jpg to 0e558286-3e27-407f-8a80-bea69cf9e7f9.jpg\n",
            "Saving 0e577479-b19c-48a0-8943-544270ad9119.jpg to 0e577479-b19c-48a0-8943-544270ad9119.jpg\n",
            "Saving 0f0aac43-38c8-4e11-a81d-c9a4dac8049d.jpg to 0f0aac43-38c8-4e11-a81d-c9a4dac8049d.jpg\n",
            "Saving 0f1aa5c0-1450-479c-94b0-08f1fa2c214b.jpg to 0f1aa5c0-1450-479c-94b0-08f1fa2c214b.jpg\n",
            "Saving 0f1cb29e-2915-42e6-93d7-c707c4a5b5b9.jpg to 0f1cb29e-2915-42e6-93d7-c707c4a5b5b9.jpg\n",
            "Saving 0f2c5624-e4b6-4b64-8275-6e57cd550496.jpg to 0f2c5624-e4b6-4b64-8275-6e57cd550496.jpg\n",
            "Saving 0f003afb-3ca7-44bf-a7b6-c572f0b9c13b.jpg to 0f003afb-3ca7-44bf-a7b6-c572f0b9c13b.jpg\n",
            "Saving 0f37e838-5c57-4865-a7a1-22b7fa6e2244.jpg to 0f37e838-5c57-4865-a7a1-22b7fa6e2244.jpg\n",
            "Saving 0f40c121-7bd9-44c3-b9a5-2ce747b7996f.jpg to 0f40c121-7bd9-44c3-b9a5-2ce747b7996f.jpg\n",
            "Saving 0f49f751-7767-4215-af41-8e393b0532d5.jpg to 0f49f751-7767-4215-af41-8e393b0532d5.jpg\n",
            "Saving 0f51aa07-55db-4481-a3e3-90efb3a19b23.jpg to 0f51aa07-55db-4481-a3e3-90efb3a19b23.jpg\n",
            "Saving 0f74ba03-2280-4c80-8b8d-6fb6821d9f3f.jpg to 0f74ba03-2280-4c80-8b8d-6fb6821d9f3f.jpg\n",
            "Saving 0f05984f-c296-43a1-b917-9c2e6a41ca57.jpg to 0f05984f-c296-43a1-b917-9c2e6a41ca57.jpg\n",
            "Saving 0f6847ca-8889-4829-963f-e07fb475f176.jpg to 0f6847ca-8889-4829-963f-e07fb475f176.jpg\n",
            "Saving 0f74873e-5c04-48fd-9811-e32879457f91.jpg to 0f74873e-5c04-48fd-9811-e32879457f91.jpg\n",
            "Saving 0f82925c-116d-4a1c-900b-2cd64257e0f8.jpg to 0f82925c-116d-4a1c-900b-2cd64257e0f8.jpg\n",
            "Saving 0f717235-e64b-44e5-ae73-18c38fc6fc9c.jpg to 0f717235-e64b-44e5-ae73-18c38fc6fc9c.jpg\n",
            "Saving 0fbe7b16-10cc-446e-8117-feb925327dc2.jpg to 0fbe7b16-10cc-446e-8117-feb925327dc2.jpg\n",
            "Saving 0fc9800a-80f9-493f-b305-5ab6888482b6.jpg to 0fc9800a-80f9-493f-b305-5ab6888482b6.jpg\n",
            "Saving 0fd8f7bd-b271-4eb2-b4f0-324b2829cc57.jpg to 0fd8f7bd-b271-4eb2-b4f0-324b2829cc57.jpg\n",
            "Saving 0fdbfd18-138d-48d4-9034-cb9578ca4a98.jpg to 0fdbfd18-138d-48d4-9034-cb9578ca4a98.jpg\n",
            "Saving 0fde396d-7843-473a-a55a-150fdf9feb35.jpg to 0fde396d-7843-473a-a55a-150fdf9feb35.jpg\n",
            "Saving 01a1f60e-a95b-4f6b-b84a-d35c5b241bb1.jpg to 01a1f60e-a95b-4f6b-b84a-d35c5b241bb1.jpg\n",
            "Saving 01a6dd75-3f6d-424d-bc4c-f1da877ff59b.jpg to 01a6dd75-3f6d-424d-bc4c-f1da877ff59b.jpg\n",
            "Saving 01a8b9ad-54ad-43ec-8a57-1a72d5ad392d.jpg to 01a8b9ad-54ad-43ec-8a57-1a72d5ad392d.jpg\n",
            "Saving 01a1960e-444a-4b20-89e5-4fba3fc1c089.jpg to 01a1960e-444a-4b20-89e5-4fba3fc1c089.jpg\n",
            "Saving 01b3180c-2dd9-420b-9e7d-8575eec9b2c9.jpg to 01b3180c-2dd9-420b-9e7d-8575eec9b2c9.jpg\n"
          ]
        }
      ]
    },
    {
      "cell_type": "code",
      "source": [
        "DATASET_PATH = \"./Alzheimer_Images\"\n",
        "os.makedirs(DATASET_PATH, exist_ok=True)\n"
      ],
      "metadata": {
        "id": "x2aTpm4Z45lX"
      },
      "execution_count": 4,
      "outputs": []
    },
    {
      "cell_type": "code",
      "source": [
        "for filename in uploaded_files.keys():\n",
        "    with open(os.path.join(DATASET_PATH, filename), \"wb\") as f:\n",
        "        f.write(uploaded_files[filename])\n",
        "\n",
        "print(\"Images uploaded successfully!\")"
      ],
      "metadata": {
        "colab": {
          "base_uri": "https://localhost:8080/"
        },
        "id": "KztcF2vS49SX",
        "outputId": "11f0d46c-bd86-4bd5-acda-872046770449"
      },
      "execution_count": 5,
      "outputs": [
        {
          "output_type": "stream",
          "name": "stdout",
          "text": [
            "Images uploaded successfully!\n"
          ]
        }
      ]
    },
    {
      "cell_type": "code",
      "source": [
        "IMG_SIZE = 150\n",
        "\n",
        "def load_images():\n",
        "    data, labels = [], []\n",
        "    for img_name in os.listdir(DATASET_PATH):\n",
        "        img_path = os.path.join(DATASET_PATH, img_name)\n",
        "        try:\n",
        "            img_array = cv2.imread(img_path)\n",
        "            img_array = cv2.cvtColor(img_array, cv2.COLOR_BGR2RGB)\n",
        "            img_array = cv2.resize(img_array, (IMG_SIZE, IMG_SIZE))\n",
        "            data.append(img_array)\n",
        "            labels.append(0)  # All images are \"NonDemented\"\n",
        "        except Exception as e:\n",
        "            print(\"Error loading image:\", e)\n",
        "\n",
        "    return np.array(data), np.array(labels)\n"
      ],
      "metadata": {
        "id": "9qnSHRH85C4V"
      },
      "execution_count": 6,
      "outputs": []
    },
    {
      "cell_type": "code",
      "source": [
        "X, y = load_images()\n"
      ],
      "metadata": {
        "id": "i-YzI7C45Lz5"
      },
      "execution_count": 7,
      "outputs": []
    },
    {
      "cell_type": "code",
      "source": [
        "X = X / 255.0\n"
      ],
      "metadata": {
        "id": "DZp0JGPW5PxE"
      },
      "execution_count": 8,
      "outputs": []
    },
    {
      "cell_type": "code",
      "source": [
        "X_train, X_test, y_train, y_test = train_test_split(X, y, test_size=0.2, random_state=42)\n",
        "\n",
        "print(f\"Loaded {len(X_train)} train samples, {len(X_test)} test samples\")"
      ],
      "metadata": {
        "colab": {
          "base_uri": "https://localhost:8080/"
        },
        "id": "EtZWxPQr5Uya",
        "outputId": "f6c6e624-be9e-4c43-e9b4-546fbc92d936"
      },
      "execution_count": 9,
      "outputs": [
        {
          "output_type": "stream",
          "name": "stdout",
          "text": [
            "Loaded 84 train samples, 21 test samples\n"
          ]
        }
      ]
    },
    {
      "cell_type": "code",
      "source": [
        "model = keras.Sequential([\n",
        "    layers.Conv2D(32, (3, 3), activation='relu', input_shape=(IMG_SIZE, IMG_SIZE, 3)),\n",
        "    layers.MaxPooling2D((2, 2)),\n",
        "\n",
        "    layers.Conv2D(64, (3, 3), activation='relu'),\n",
        "    layers.MaxPooling2D((2, 2)),\n",
        "\n",
        "    layers.Conv2D(128, (3, 3), activation='relu'),\n",
        "    layers.MaxPooling2D((2, 2)),\n",
        "\n",
        "    layers.Flatten(),\n",
        "    layers.Dense(128, activation='relu'),\n",
        "    layers.Dropout(0.5),\n",
        "    layers.Dense(1, activation='sigmoid')  # Binary classification\n",
        "])\n",
        "\n",
        "# Compile model\n",
        "model.compile(optimizer='adam', loss='binary_crossentropy', metrics=['accuracy'])\n",
        "\n",
        "# Print model summary\n",
        "model.summary()"
      ],
      "metadata": {
        "colab": {
          "base_uri": "https://localhost:8080/",
          "height": 504
        },
        "id": "xAbKcAnf5WZo",
        "outputId": "9425d84f-794a-4172-ba3a-87cf0321aaff"
      },
      "execution_count": 10,
      "outputs": [
        {
          "output_type": "stream",
          "name": "stderr",
          "text": [
            "/usr/local/lib/python3.11/dist-packages/keras/src/layers/convolutional/base_conv.py:107: UserWarning: Do not pass an `input_shape`/`input_dim` argument to a layer. When using Sequential models, prefer using an `Input(shape)` object as the first layer in the model instead.\n",
            "  super().__init__(activity_regularizer=activity_regularizer, **kwargs)\n"
          ]
        },
        {
          "output_type": "display_data",
          "data": {
            "text/plain": [
              "\u001b[1mModel: \"sequential\"\u001b[0m\n"
            ],
            "text/html": [
              "<pre style=\"white-space:pre;overflow-x:auto;line-height:normal;font-family:Menlo,'DejaVu Sans Mono',consolas,'Courier New',monospace\"><span style=\"font-weight: bold\">Model: \"sequential\"</span>\n",
              "</pre>\n"
            ]
          },
          "metadata": {}
        },
        {
          "output_type": "display_data",
          "data": {
            "text/plain": [
              "┏━━━━━━━━━━━━━━━━━━━━━━━━━━━━━━━━━━━━━━┳━━━━━━━━━━━━━━━━━━━━━━━━━━━━━┳━━━━━━━━━━━━━━━━━┓\n",
              "┃\u001b[1m \u001b[0m\u001b[1mLayer (type)                        \u001b[0m\u001b[1m \u001b[0m┃\u001b[1m \u001b[0m\u001b[1mOutput Shape               \u001b[0m\u001b[1m \u001b[0m┃\u001b[1m \u001b[0m\u001b[1m        Param #\u001b[0m\u001b[1m \u001b[0m┃\n",
              "┡━━━━━━━━━━━━━━━━━━━━━━━━━━━━━━━━━━━━━━╇━━━━━━━━━━━━━━━━━━━━━━━━━━━━━╇━━━━━━━━━━━━━━━━━┩\n",
              "│ conv2d (\u001b[38;5;33mConv2D\u001b[0m)                      │ (\u001b[38;5;45mNone\u001b[0m, \u001b[38;5;34m148\u001b[0m, \u001b[38;5;34m148\u001b[0m, \u001b[38;5;34m32\u001b[0m)        │             \u001b[38;5;34m896\u001b[0m │\n",
              "├──────────────────────────────────────┼─────────────────────────────┼─────────────────┤\n",
              "│ max_pooling2d (\u001b[38;5;33mMaxPooling2D\u001b[0m)         │ (\u001b[38;5;45mNone\u001b[0m, \u001b[38;5;34m74\u001b[0m, \u001b[38;5;34m74\u001b[0m, \u001b[38;5;34m32\u001b[0m)          │               \u001b[38;5;34m0\u001b[0m │\n",
              "├──────────────────────────────────────┼─────────────────────────────┼─────────────────┤\n",
              "│ conv2d_1 (\u001b[38;5;33mConv2D\u001b[0m)                    │ (\u001b[38;5;45mNone\u001b[0m, \u001b[38;5;34m72\u001b[0m, \u001b[38;5;34m72\u001b[0m, \u001b[38;5;34m64\u001b[0m)          │          \u001b[38;5;34m18,496\u001b[0m │\n",
              "├──────────────────────────────────────┼─────────────────────────────┼─────────────────┤\n",
              "│ max_pooling2d_1 (\u001b[38;5;33mMaxPooling2D\u001b[0m)       │ (\u001b[38;5;45mNone\u001b[0m, \u001b[38;5;34m36\u001b[0m, \u001b[38;5;34m36\u001b[0m, \u001b[38;5;34m64\u001b[0m)          │               \u001b[38;5;34m0\u001b[0m │\n",
              "├──────────────────────────────────────┼─────────────────────────────┼─────────────────┤\n",
              "│ conv2d_2 (\u001b[38;5;33mConv2D\u001b[0m)                    │ (\u001b[38;5;45mNone\u001b[0m, \u001b[38;5;34m34\u001b[0m, \u001b[38;5;34m34\u001b[0m, \u001b[38;5;34m128\u001b[0m)         │          \u001b[38;5;34m73,856\u001b[0m │\n",
              "├──────────────────────────────────────┼─────────────────────────────┼─────────────────┤\n",
              "│ max_pooling2d_2 (\u001b[38;5;33mMaxPooling2D\u001b[0m)       │ (\u001b[38;5;45mNone\u001b[0m, \u001b[38;5;34m17\u001b[0m, \u001b[38;5;34m17\u001b[0m, \u001b[38;5;34m128\u001b[0m)         │               \u001b[38;5;34m0\u001b[0m │\n",
              "├──────────────────────────────────────┼─────────────────────────────┼─────────────────┤\n",
              "│ flatten (\u001b[38;5;33mFlatten\u001b[0m)                    │ (\u001b[38;5;45mNone\u001b[0m, \u001b[38;5;34m36992\u001b[0m)               │               \u001b[38;5;34m0\u001b[0m │\n",
              "├──────────────────────────────────────┼─────────────────────────────┼─────────────────┤\n",
              "│ dense (\u001b[38;5;33mDense\u001b[0m)                        │ (\u001b[38;5;45mNone\u001b[0m, \u001b[38;5;34m128\u001b[0m)                 │       \u001b[38;5;34m4,735,104\u001b[0m │\n",
              "├──────────────────────────────────────┼─────────────────────────────┼─────────────────┤\n",
              "│ dropout (\u001b[38;5;33mDropout\u001b[0m)                    │ (\u001b[38;5;45mNone\u001b[0m, \u001b[38;5;34m128\u001b[0m)                 │               \u001b[38;5;34m0\u001b[0m │\n",
              "├──────────────────────────────────────┼─────────────────────────────┼─────────────────┤\n",
              "│ dense_1 (\u001b[38;5;33mDense\u001b[0m)                      │ (\u001b[38;5;45mNone\u001b[0m, \u001b[38;5;34m1\u001b[0m)                   │             \u001b[38;5;34m129\u001b[0m │\n",
              "└──────────────────────────────────────┴─────────────────────────────┴─────────────────┘\n"
            ],
            "text/html": [
              "<pre style=\"white-space:pre;overflow-x:auto;line-height:normal;font-family:Menlo,'DejaVu Sans Mono',consolas,'Courier New',monospace\">┏━━━━━━━━━━━━━━━━━━━━━━━━━━━━━━━━━━━━━━┳━━━━━━━━━━━━━━━━━━━━━━━━━━━━━┳━━━━━━━━━━━━━━━━━┓\n",
              "┃<span style=\"font-weight: bold\"> Layer (type)                         </span>┃<span style=\"font-weight: bold\"> Output Shape                </span>┃<span style=\"font-weight: bold\">         Param # </span>┃\n",
              "┡━━━━━━━━━━━━━━━━━━━━━━━━━━━━━━━━━━━━━━╇━━━━━━━━━━━━━━━━━━━━━━━━━━━━━╇━━━━━━━━━━━━━━━━━┩\n",
              "│ conv2d (<span style=\"color: #0087ff; text-decoration-color: #0087ff\">Conv2D</span>)                      │ (<span style=\"color: #00d7ff; text-decoration-color: #00d7ff\">None</span>, <span style=\"color: #00af00; text-decoration-color: #00af00\">148</span>, <span style=\"color: #00af00; text-decoration-color: #00af00\">148</span>, <span style=\"color: #00af00; text-decoration-color: #00af00\">32</span>)        │             <span style=\"color: #00af00; text-decoration-color: #00af00\">896</span> │\n",
              "├──────────────────────────────────────┼─────────────────────────────┼─────────────────┤\n",
              "│ max_pooling2d (<span style=\"color: #0087ff; text-decoration-color: #0087ff\">MaxPooling2D</span>)         │ (<span style=\"color: #00d7ff; text-decoration-color: #00d7ff\">None</span>, <span style=\"color: #00af00; text-decoration-color: #00af00\">74</span>, <span style=\"color: #00af00; text-decoration-color: #00af00\">74</span>, <span style=\"color: #00af00; text-decoration-color: #00af00\">32</span>)          │               <span style=\"color: #00af00; text-decoration-color: #00af00\">0</span> │\n",
              "├──────────────────────────────────────┼─────────────────────────────┼─────────────────┤\n",
              "│ conv2d_1 (<span style=\"color: #0087ff; text-decoration-color: #0087ff\">Conv2D</span>)                    │ (<span style=\"color: #00d7ff; text-decoration-color: #00d7ff\">None</span>, <span style=\"color: #00af00; text-decoration-color: #00af00\">72</span>, <span style=\"color: #00af00; text-decoration-color: #00af00\">72</span>, <span style=\"color: #00af00; text-decoration-color: #00af00\">64</span>)          │          <span style=\"color: #00af00; text-decoration-color: #00af00\">18,496</span> │\n",
              "├──────────────────────────────────────┼─────────────────────────────┼─────────────────┤\n",
              "│ max_pooling2d_1 (<span style=\"color: #0087ff; text-decoration-color: #0087ff\">MaxPooling2D</span>)       │ (<span style=\"color: #00d7ff; text-decoration-color: #00d7ff\">None</span>, <span style=\"color: #00af00; text-decoration-color: #00af00\">36</span>, <span style=\"color: #00af00; text-decoration-color: #00af00\">36</span>, <span style=\"color: #00af00; text-decoration-color: #00af00\">64</span>)          │               <span style=\"color: #00af00; text-decoration-color: #00af00\">0</span> │\n",
              "├──────────────────────────────────────┼─────────────────────────────┼─────────────────┤\n",
              "│ conv2d_2 (<span style=\"color: #0087ff; text-decoration-color: #0087ff\">Conv2D</span>)                    │ (<span style=\"color: #00d7ff; text-decoration-color: #00d7ff\">None</span>, <span style=\"color: #00af00; text-decoration-color: #00af00\">34</span>, <span style=\"color: #00af00; text-decoration-color: #00af00\">34</span>, <span style=\"color: #00af00; text-decoration-color: #00af00\">128</span>)         │          <span style=\"color: #00af00; text-decoration-color: #00af00\">73,856</span> │\n",
              "├──────────────────────────────────────┼─────────────────────────────┼─────────────────┤\n",
              "│ max_pooling2d_2 (<span style=\"color: #0087ff; text-decoration-color: #0087ff\">MaxPooling2D</span>)       │ (<span style=\"color: #00d7ff; text-decoration-color: #00d7ff\">None</span>, <span style=\"color: #00af00; text-decoration-color: #00af00\">17</span>, <span style=\"color: #00af00; text-decoration-color: #00af00\">17</span>, <span style=\"color: #00af00; text-decoration-color: #00af00\">128</span>)         │               <span style=\"color: #00af00; text-decoration-color: #00af00\">0</span> │\n",
              "├──────────────────────────────────────┼─────────────────────────────┼─────────────────┤\n",
              "│ flatten (<span style=\"color: #0087ff; text-decoration-color: #0087ff\">Flatten</span>)                    │ (<span style=\"color: #00d7ff; text-decoration-color: #00d7ff\">None</span>, <span style=\"color: #00af00; text-decoration-color: #00af00\">36992</span>)               │               <span style=\"color: #00af00; text-decoration-color: #00af00\">0</span> │\n",
              "├──────────────────────────────────────┼─────────────────────────────┼─────────────────┤\n",
              "│ dense (<span style=\"color: #0087ff; text-decoration-color: #0087ff\">Dense</span>)                        │ (<span style=\"color: #00d7ff; text-decoration-color: #00d7ff\">None</span>, <span style=\"color: #00af00; text-decoration-color: #00af00\">128</span>)                 │       <span style=\"color: #00af00; text-decoration-color: #00af00\">4,735,104</span> │\n",
              "├──────────────────────────────────────┼─────────────────────────────┼─────────────────┤\n",
              "│ dropout (<span style=\"color: #0087ff; text-decoration-color: #0087ff\">Dropout</span>)                    │ (<span style=\"color: #00d7ff; text-decoration-color: #00d7ff\">None</span>, <span style=\"color: #00af00; text-decoration-color: #00af00\">128</span>)                 │               <span style=\"color: #00af00; text-decoration-color: #00af00\">0</span> │\n",
              "├──────────────────────────────────────┼─────────────────────────────┼─────────────────┤\n",
              "│ dense_1 (<span style=\"color: #0087ff; text-decoration-color: #0087ff\">Dense</span>)                      │ (<span style=\"color: #00d7ff; text-decoration-color: #00d7ff\">None</span>, <span style=\"color: #00af00; text-decoration-color: #00af00\">1</span>)                   │             <span style=\"color: #00af00; text-decoration-color: #00af00\">129</span> │\n",
              "└──────────────────────────────────────┴─────────────────────────────┴─────────────────┘\n",
              "</pre>\n"
            ]
          },
          "metadata": {}
        },
        {
          "output_type": "display_data",
          "data": {
            "text/plain": [
              "\u001b[1m Total params: \u001b[0m\u001b[38;5;34m4,828,481\u001b[0m (18.42 MB)\n"
            ],
            "text/html": [
              "<pre style=\"white-space:pre;overflow-x:auto;line-height:normal;font-family:Menlo,'DejaVu Sans Mono',consolas,'Courier New',monospace\"><span style=\"font-weight: bold\"> Total params: </span><span style=\"color: #00af00; text-decoration-color: #00af00\">4,828,481</span> (18.42 MB)\n",
              "</pre>\n"
            ]
          },
          "metadata": {}
        },
        {
          "output_type": "display_data",
          "data": {
            "text/plain": [
              "\u001b[1m Trainable params: \u001b[0m\u001b[38;5;34m4,828,481\u001b[0m (18.42 MB)\n"
            ],
            "text/html": [
              "<pre style=\"white-space:pre;overflow-x:auto;line-height:normal;font-family:Menlo,'DejaVu Sans Mono',consolas,'Courier New',monospace\"><span style=\"font-weight: bold\"> Trainable params: </span><span style=\"color: #00af00; text-decoration-color: #00af00\">4,828,481</span> (18.42 MB)\n",
              "</pre>\n"
            ]
          },
          "metadata": {}
        },
        {
          "output_type": "display_data",
          "data": {
            "text/plain": [
              "\u001b[1m Non-trainable params: \u001b[0m\u001b[38;5;34m0\u001b[0m (0.00 B)\n"
            ],
            "text/html": [
              "<pre style=\"white-space:pre;overflow-x:auto;line-height:normal;font-family:Menlo,'DejaVu Sans Mono',consolas,'Courier New',monospace\"><span style=\"font-weight: bold\"> Non-trainable params: </span><span style=\"color: #00af00; text-decoration-color: #00af00\">0</span> (0.00 B)\n",
              "</pre>\n"
            ]
          },
          "metadata": {}
        }
      ]
    },
    {
      "cell_type": "code",
      "source": [
        "history = model.fit(X_train, y_train, epochs=10, validation_data=(X_test, y_test))"
      ],
      "metadata": {
        "colab": {
          "base_uri": "https://localhost:8080/"
        },
        "id": "wYDtVI9Y5dhh",
        "outputId": "926bf9b6-577f-42ac-ddff-867c57da1442"
      },
      "execution_count": 11,
      "outputs": [
        {
          "output_type": "stream",
          "name": "stdout",
          "text": [
            "Epoch 1/10\n",
            "\u001b[1m3/3\u001b[0m \u001b[32m━━━━━━━━━━━━━━━━━━━━\u001b[0m\u001b[37m\u001b[0m \u001b[1m6s\u001b[0m 1s/step - accuracy: 0.4345 - loss: 0.4520 - val_accuracy: 1.0000 - val_loss: 1.2856e-06\n",
            "Epoch 2/10\n",
            "\u001b[1m3/3\u001b[0m \u001b[32m━━━━━━━━━━━━━━━━━━━━\u001b[0m\u001b[37m\u001b[0m \u001b[1m4s\u001b[0m 1s/step - accuracy: 1.0000 - loss: 4.2878e-06 - val_accuracy: 1.0000 - val_loss: 2.2700e-14\n",
            "Epoch 3/10\n",
            "\u001b[1m3/3\u001b[0m \u001b[32m━━━━━━━━━━━━━━━━━━━━\u001b[0m\u001b[37m\u001b[0m \u001b[1m5s\u001b[0m 1s/step - accuracy: 1.0000 - loss: 9.6937e-12 - val_accuracy: 1.0000 - val_loss: 1.7406e-22\n",
            "Epoch 4/10\n",
            "\u001b[1m3/3\u001b[0m \u001b[32m━━━━━━━━━━━━━━━━━━━━\u001b[0m\u001b[37m\u001b[0m \u001b[1m4s\u001b[0m 1s/step - accuracy: 1.0000 - loss: 1.7222e-18 - val_accuracy: 1.0000 - val_loss: 4.4267e-30\n",
            "Epoch 5/10\n",
            "\u001b[1m3/3\u001b[0m \u001b[32m━━━━━━━━━━━━━━━━━━━━\u001b[0m\u001b[37m\u001b[0m \u001b[1m5s\u001b[0m 1s/step - accuracy: 1.0000 - loss: 1.9339e-20 - val_accuracy: 1.0000 - val_loss: 9.2989e-37\n",
            "Epoch 6/10\n",
            "\u001b[1m3/3\u001b[0m \u001b[32m━━━━━━━━━━━━━━━━━━━━\u001b[0m\u001b[37m\u001b[0m \u001b[1m5s\u001b[0m 1s/step - accuracy: 1.0000 - loss: 1.8547e-19 - val_accuracy: 1.0000 - val_loss: 0.0000e+00\n",
            "Epoch 7/10\n",
            "\u001b[1m3/3\u001b[0m \u001b[32m━━━━━━━━━━━━━━━━━━━━\u001b[0m\u001b[37m\u001b[0m \u001b[1m5s\u001b[0m 1s/step - accuracy: 1.0000 - loss: 2.3718e-29 - val_accuracy: 1.0000 - val_loss: 0.0000e+00\n",
            "Epoch 8/10\n",
            "\u001b[1m3/3\u001b[0m \u001b[32m━━━━━━━━━━━━━━━━━━━━\u001b[0m\u001b[37m\u001b[0m \u001b[1m6s\u001b[0m 1s/step - accuracy: 1.0000 - loss: 2.3705e-25 - val_accuracy: 1.0000 - val_loss: 0.0000e+00\n",
            "Epoch 9/10\n",
            "\u001b[1m3/3\u001b[0m \u001b[32m━━━━━━━━━━━━━━━━━━━━\u001b[0m\u001b[37m\u001b[0m \u001b[1m4s\u001b[0m 1s/step - accuracy: 1.0000 - loss: 2.9206e-34 - val_accuracy: 1.0000 - val_loss: 0.0000e+00\n",
            "Epoch 10/10\n",
            "\u001b[1m3/3\u001b[0m \u001b[32m━━━━━━━━━━━━━━━━━━━━\u001b[0m\u001b[37m\u001b[0m \u001b[1m4s\u001b[0m 1s/step - accuracy: 1.0000 - loss: 1.5606e-36 - val_accuracy: 1.0000 - val_loss: 0.0000e+00\n"
          ]
        }
      ]
    },
    {
      "cell_type": "code",
      "source": [
        "model.save('alzheimer_model_nondemented.h5')\n",
        "print(\"Model saved successfully!\")"
      ],
      "metadata": {
        "colab": {
          "base_uri": "https://localhost:8080/"
        },
        "id": "Z70dn4ot5wY8",
        "outputId": "097501c8-c0cc-47aa-de25-8c456086e938"
      },
      "execution_count": 12,
      "outputs": [
        {
          "output_type": "stream",
          "name": "stderr",
          "text": [
            "WARNING:absl:You are saving your model as an HDF5 file via `model.save()` or `keras.saving.save_model(model)`. This file format is considered legacy. We recommend using instead the native Keras format, e.g. `model.save('my_model.keras')` or `keras.saving.save_model(model, 'my_model.keras')`. \n"
          ]
        },
        {
          "output_type": "stream",
          "name": "stdout",
          "text": [
            "Model saved successfully!\n"
          ]
        }
      ]
    },
    {
      "cell_type": "code",
      "source": [
        "from IPython.display import display\n",
        "import matplotlib.pyplot as plt\n",
        "\n",
        "def predict_image(image_path):\n",
        "    img = cv2.imread(image_path)\n",
        "    img = cv2.cvtColor(img, cv2.COLOR_BGR2RGB)\n",
        "    img = cv2.resize(img, (IMG_SIZE, IMG_SIZE))\n",
        "    img = img / 255.0  # Normalize\n",
        "    img = np.expand_dims(img, axis=0)  # Expand dimensions for model\n",
        "\n",
        "    prediction = model.predict(img)[0][0]\n",
        "    predicted_class = \"NonDemented\" if prediction < 0.5 else \"Demented\"\n",
        "    confidence = prediction if predicted_class == \"Demented\" else 1 - prediction\n"
      ],
      "metadata": {
        "id": "x6WfvJLg50xn"
      },
      "execution_count": 13,
      "outputs": []
    },
    {
      "cell_type": "code",
      "source": [
        "from IPython.display import display\n",
        "import matplotlib.pyplot as plt\n",
        "\n",
        "def predict_image(image_path):\n",
        "    img = cv2.imread(image_path)\n",
        "    img = cv2.cvtColor(img, cv2.COLOR_BGR2RGB)\n",
        "    img = cv2.resize(img, (IMG_SIZE, IMG_SIZE))\n",
        "    img = img / 255.0  # Normalize\n",
        "    img = np.expand_dims(img, axis=0)  # Expand dimensions for model\n",
        "\n",
        "    prediction = model.predict(img)[0][0]\n",
        "    predicted_class = \"NonDemented\" if prediction < 0.5 else \"Demented\"\n",
        "    confidence = prediction if predicted_class == \"Demented\" else 1 - prediction\n",
        "\n",
        "    # Corrected indentation:\n",
        "    plt.imshow(cv2.imread(image_path))\n",
        "    plt.axis(\"off\")\n",
        "    plt.title(f\"Predicted: {predicted_class} ({confidence*100:.2f}%)\")\n",
        "    plt.show()"
      ],
      "metadata": {
        "id": "zVwj5PQb58Qn"
      },
      "execution_count": 14,
      "outputs": []
    },
    {
      "cell_type": "code",
      "source": [
        "uploaded_file = files.upload()\n",
        "for filename in uploaded_file.keys():\n",
        "    predict_image(filename)"
      ],
      "metadata": {
        "id": "A3J-nGM_6J6M",
        "outputId": "3968a504-eb3b-4135-bfa4-a6d9b7bb6127",
        "colab": {
          "base_uri": "https://localhost:8080/",
          "height": 501
        }
      },
      "execution_count": 15,
      "outputs": [
        {
          "output_type": "display_data",
          "data": {
            "text/plain": [
              "<IPython.core.display.HTML object>"
            ],
            "text/html": [
              "\n",
              "     <input type=\"file\" id=\"files-f6abdeea-0c9a-4b93-b42e-88978c4b9b5e\" name=\"files[]\" multiple disabled\n",
              "        style=\"border:none\" />\n",
              "     <output id=\"result-f6abdeea-0c9a-4b93-b42e-88978c4b9b5e\">\n",
              "      Upload widget is only available when the cell has been executed in the\n",
              "      current browser session. Please rerun this cell to enable.\n",
              "      </output>\n",
              "      <script>// Copyright 2017 Google LLC\n",
              "//\n",
              "// Licensed under the Apache License, Version 2.0 (the \"License\");\n",
              "// you may not use this file except in compliance with the License.\n",
              "// You may obtain a copy of the License at\n",
              "//\n",
              "//      http://www.apache.org/licenses/LICENSE-2.0\n",
              "//\n",
              "// Unless required by applicable law or agreed to in writing, software\n",
              "// distributed under the License is distributed on an \"AS IS\" BASIS,\n",
              "// WITHOUT WARRANTIES OR CONDITIONS OF ANY KIND, either express or implied.\n",
              "// See the License for the specific language governing permissions and\n",
              "// limitations under the License.\n",
              "\n",
              "/**\n",
              " * @fileoverview Helpers for google.colab Python module.\n",
              " */\n",
              "(function(scope) {\n",
              "function span(text, styleAttributes = {}) {\n",
              "  const element = document.createElement('span');\n",
              "  element.textContent = text;\n",
              "  for (const key of Object.keys(styleAttributes)) {\n",
              "    element.style[key] = styleAttributes[key];\n",
              "  }\n",
              "  return element;\n",
              "}\n",
              "\n",
              "// Max number of bytes which will be uploaded at a time.\n",
              "const MAX_PAYLOAD_SIZE = 100 * 1024;\n",
              "\n",
              "function _uploadFiles(inputId, outputId) {\n",
              "  const steps = uploadFilesStep(inputId, outputId);\n",
              "  const outputElement = document.getElementById(outputId);\n",
              "  // Cache steps on the outputElement to make it available for the next call\n",
              "  // to uploadFilesContinue from Python.\n",
              "  outputElement.steps = steps;\n",
              "\n",
              "  return _uploadFilesContinue(outputId);\n",
              "}\n",
              "\n",
              "// This is roughly an async generator (not supported in the browser yet),\n",
              "// where there are multiple asynchronous steps and the Python side is going\n",
              "// to poll for completion of each step.\n",
              "// This uses a Promise to block the python side on completion of each step,\n",
              "// then passes the result of the previous step as the input to the next step.\n",
              "function _uploadFilesContinue(outputId) {\n",
              "  const outputElement = document.getElementById(outputId);\n",
              "  const steps = outputElement.steps;\n",
              "\n",
              "  const next = steps.next(outputElement.lastPromiseValue);\n",
              "  return Promise.resolve(next.value.promise).then((value) => {\n",
              "    // Cache the last promise value to make it available to the next\n",
              "    // step of the generator.\n",
              "    outputElement.lastPromiseValue = value;\n",
              "    return next.value.response;\n",
              "  });\n",
              "}\n",
              "\n",
              "/**\n",
              " * Generator function which is called between each async step of the upload\n",
              " * process.\n",
              " * @param {string} inputId Element ID of the input file picker element.\n",
              " * @param {string} outputId Element ID of the output display.\n",
              " * @return {!Iterable<!Object>} Iterable of next steps.\n",
              " */\n",
              "function* uploadFilesStep(inputId, outputId) {\n",
              "  const inputElement = document.getElementById(inputId);\n",
              "  inputElement.disabled = false;\n",
              "\n",
              "  const outputElement = document.getElementById(outputId);\n",
              "  outputElement.innerHTML = '';\n",
              "\n",
              "  const pickedPromise = new Promise((resolve) => {\n",
              "    inputElement.addEventListener('change', (e) => {\n",
              "      resolve(e.target.files);\n",
              "    });\n",
              "  });\n",
              "\n",
              "  const cancel = document.createElement('button');\n",
              "  inputElement.parentElement.appendChild(cancel);\n",
              "  cancel.textContent = 'Cancel upload';\n",
              "  const cancelPromise = new Promise((resolve) => {\n",
              "    cancel.onclick = () => {\n",
              "      resolve(null);\n",
              "    };\n",
              "  });\n",
              "\n",
              "  // Wait for the user to pick the files.\n",
              "  const files = yield {\n",
              "    promise: Promise.race([pickedPromise, cancelPromise]),\n",
              "    response: {\n",
              "      action: 'starting',\n",
              "    }\n",
              "  };\n",
              "\n",
              "  cancel.remove();\n",
              "\n",
              "  // Disable the input element since further picks are not allowed.\n",
              "  inputElement.disabled = true;\n",
              "\n",
              "  if (!files) {\n",
              "    return {\n",
              "      response: {\n",
              "        action: 'complete',\n",
              "      }\n",
              "    };\n",
              "  }\n",
              "\n",
              "  for (const file of files) {\n",
              "    const li = document.createElement('li');\n",
              "    li.append(span(file.name, {fontWeight: 'bold'}));\n",
              "    li.append(span(\n",
              "        `(${file.type || 'n/a'}) - ${file.size} bytes, ` +\n",
              "        `last modified: ${\n",
              "            file.lastModifiedDate ? file.lastModifiedDate.toLocaleDateString() :\n",
              "                                    'n/a'} - `));\n",
              "    const percent = span('0% done');\n",
              "    li.appendChild(percent);\n",
              "\n",
              "    outputElement.appendChild(li);\n",
              "\n",
              "    const fileDataPromise = new Promise((resolve) => {\n",
              "      const reader = new FileReader();\n",
              "      reader.onload = (e) => {\n",
              "        resolve(e.target.result);\n",
              "      };\n",
              "      reader.readAsArrayBuffer(file);\n",
              "    });\n",
              "    // Wait for the data to be ready.\n",
              "    let fileData = yield {\n",
              "      promise: fileDataPromise,\n",
              "      response: {\n",
              "        action: 'continue',\n",
              "      }\n",
              "    };\n",
              "\n",
              "    // Use a chunked sending to avoid message size limits. See b/62115660.\n",
              "    let position = 0;\n",
              "    do {\n",
              "      const length = Math.min(fileData.byteLength - position, MAX_PAYLOAD_SIZE);\n",
              "      const chunk = new Uint8Array(fileData, position, length);\n",
              "      position += length;\n",
              "\n",
              "      const base64 = btoa(String.fromCharCode.apply(null, chunk));\n",
              "      yield {\n",
              "        response: {\n",
              "          action: 'append',\n",
              "          file: file.name,\n",
              "          data: base64,\n",
              "        },\n",
              "      };\n",
              "\n",
              "      let percentDone = fileData.byteLength === 0 ?\n",
              "          100 :\n",
              "          Math.round((position / fileData.byteLength) * 100);\n",
              "      percent.textContent = `${percentDone}% done`;\n",
              "\n",
              "    } while (position < fileData.byteLength);\n",
              "  }\n",
              "\n",
              "  // All done.\n",
              "  yield {\n",
              "    response: {\n",
              "      action: 'complete',\n",
              "    }\n",
              "  };\n",
              "}\n",
              "\n",
              "scope.google = scope.google || {};\n",
              "scope.google.colab = scope.google.colab || {};\n",
              "scope.google.colab._files = {\n",
              "  _uploadFiles,\n",
              "  _uploadFilesContinue,\n",
              "};\n",
              "})(self);\n",
              "</script> "
            ]
          },
          "metadata": {}
        },
        {
          "output_type": "stream",
          "name": "stdout",
          "text": [
            "Saving 1c527e7b-5efd-45ad-bf9a-da6e4676723f.jpg to 1c527e7b-5efd-45ad-bf9a-da6e4676723f.jpg\n",
            "\u001b[1m1/1\u001b[0m \u001b[32m━━━━━━━━━━━━━━━━━━━━\u001b[0m\u001b[37m\u001b[0m \u001b[1m0s\u001b[0m 131ms/step\n"
          ]
        },
        {
          "output_type": "display_data",
          "data": {
            "text/plain": [
              "<Figure size 640x480 with 1 Axes>"
            ],
            "image/png": "[encoded data removed]"
          },
          "metadata": {}
        }
      ]
    }
  ]
}